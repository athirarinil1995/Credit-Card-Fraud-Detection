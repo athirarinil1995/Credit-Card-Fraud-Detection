{
 "cells": [
  {
   "cell_type": "markdown",
   "id": "db610ee2",
   "metadata": {},
   "source": [
    "# Project : Credit Card Fraud Detection"
   ]
  },
  {
   "cell_type": "markdown",
   "id": "7df5d080",
   "metadata": {},
   "source": [
    "## Problem Statement:"
   ]
  },
  {
   "cell_type": "markdown",
   "id": "5479c94e",
   "metadata": {},
   "source": [
    "1. A credit card is a small thin plastic or fiber card that incorporates\n",
    " information about the person such as a picture or signature and the\n",
    " person’s name on it to charge purchases and services to his linked\n",
    " account. Charges are debited regularly. Nowadays, card data is read by\n",
    " ATMs, swiping machines, store readers, banks and online transactions.\n",
    " 2. Each card has a unique card number which is very important. Its security\n",
    " mainly relies on the physical security of the card and also the privacy of the\n",
    " credit card number. There is a rapid growth in credit card transactions\n",
    " which has led to substantial growth in scam cases.\n",
    " 3. Credit card fraud is expanding heavily because fraud financial loss is\n",
    " increasing drastically. Multiple data mining and statistical techniques are\n",
    " used to catch fraud. Therefore the detection of fraud using efficient and\n",
    " secured methods are very important."
   ]
  },
  {
   "cell_type": "markdown",
   "id": "b7740e28",
   "metadata": {},
   "source": [
    "## Tasks To Be Performed:"
   ]
  },
  {
   "cell_type": "markdown",
   "id": "6ad42ade",
   "metadata": {},
   "source": [
    " 1. Load the dataset using the pandas module."
   ]
  },
  {
   "cell_type": "code",
   "execution_count": 8,
   "id": "7e775d3c",
   "metadata": {},
   "outputs": [],
   "source": [
    "import pandas as pd\n",
    "import matplotlib.pyplot as plt\n",
    "import numpy as np"
   ]
  },
  {
   "cell_type": "code",
   "execution_count": 9,
   "id": "ad6d2e2d",
   "metadata": {
    "scrolled": true
   },
   "outputs": [
    {
     "data": {
      "text/html": [
       "<div>\n",
       "<style scoped>\n",
       "    .dataframe tbody tr th:only-of-type {\n",
       "        vertical-align: middle;\n",
       "    }\n",
       "\n",
       "    .dataframe tbody tr th {\n",
       "        vertical-align: top;\n",
       "    }\n",
       "\n",
       "    .dataframe thead th {\n",
       "        text-align: right;\n",
       "    }\n",
       "</style>\n",
       "<table border=\"1\" class=\"dataframe\">\n",
       "  <thead>\n",
       "    <tr style=\"text-align: right;\">\n",
       "      <th></th>\n",
       "      <th>Time</th>\n",
       "      <th>V1</th>\n",
       "      <th>V2</th>\n",
       "      <th>V3</th>\n",
       "      <th>V4</th>\n",
       "      <th>V5</th>\n",
       "      <th>V6</th>\n",
       "      <th>V7</th>\n",
       "      <th>V8</th>\n",
       "      <th>V9</th>\n",
       "      <th>...</th>\n",
       "      <th>V21</th>\n",
       "      <th>V22</th>\n",
       "      <th>V23</th>\n",
       "      <th>V24</th>\n",
       "      <th>V25</th>\n",
       "      <th>V26</th>\n",
       "      <th>V27</th>\n",
       "      <th>V28</th>\n",
       "      <th>Amount</th>\n",
       "      <th>Class</th>\n",
       "    </tr>\n",
       "  </thead>\n",
       "  <tbody>\n",
       "    <tr>\n",
       "      <th>0</th>\n",
       "      <td>0</td>\n",
       "      <td>-1.359807</td>\n",
       "      <td>-0.072781</td>\n",
       "      <td>2.536347</td>\n",
       "      <td>1.378155</td>\n",
       "      <td>-0.338321</td>\n",
       "      <td>0.462388</td>\n",
       "      <td>0.239599</td>\n",
       "      <td>0.098698</td>\n",
       "      <td>0.363787</td>\n",
       "      <td>...</td>\n",
       "      <td>-0.018307</td>\n",
       "      <td>0.277838</td>\n",
       "      <td>-0.110474</td>\n",
       "      <td>0.066928</td>\n",
       "      <td>0.128539</td>\n",
       "      <td>-0.189115</td>\n",
       "      <td>0.133558</td>\n",
       "      <td>-0.021053</td>\n",
       "      <td>149.62</td>\n",
       "      <td>0.0</td>\n",
       "    </tr>\n",
       "    <tr>\n",
       "      <th>1</th>\n",
       "      <td>0</td>\n",
       "      <td>1.191857</td>\n",
       "      <td>0.266151</td>\n",
       "      <td>0.166480</td>\n",
       "      <td>0.448154</td>\n",
       "      <td>0.060018</td>\n",
       "      <td>-0.082361</td>\n",
       "      <td>-0.078803</td>\n",
       "      <td>0.085102</td>\n",
       "      <td>-0.255425</td>\n",
       "      <td>...</td>\n",
       "      <td>-0.225775</td>\n",
       "      <td>-0.638672</td>\n",
       "      <td>0.101288</td>\n",
       "      <td>-0.339846</td>\n",
       "      <td>0.167170</td>\n",
       "      <td>0.125895</td>\n",
       "      <td>-0.008983</td>\n",
       "      <td>0.014724</td>\n",
       "      <td>2.69</td>\n",
       "      <td>0.0</td>\n",
       "    </tr>\n",
       "    <tr>\n",
       "      <th>2</th>\n",
       "      <td>1</td>\n",
       "      <td>-1.358354</td>\n",
       "      <td>-1.340163</td>\n",
       "      <td>1.773209</td>\n",
       "      <td>0.379780</td>\n",
       "      <td>-0.503198</td>\n",
       "      <td>1.800499</td>\n",
       "      <td>0.791461</td>\n",
       "      <td>0.247676</td>\n",
       "      <td>-1.514654</td>\n",
       "      <td>...</td>\n",
       "      <td>0.247998</td>\n",
       "      <td>0.771679</td>\n",
       "      <td>0.909412</td>\n",
       "      <td>-0.689281</td>\n",
       "      <td>-0.327642</td>\n",
       "      <td>-0.139097</td>\n",
       "      <td>-0.055353</td>\n",
       "      <td>-0.059752</td>\n",
       "      <td>378.66</td>\n",
       "      <td>0.0</td>\n",
       "    </tr>\n",
       "    <tr>\n",
       "      <th>3</th>\n",
       "      <td>1</td>\n",
       "      <td>-0.966272</td>\n",
       "      <td>-0.185226</td>\n",
       "      <td>1.792993</td>\n",
       "      <td>-0.863291</td>\n",
       "      <td>-0.010309</td>\n",
       "      <td>1.247203</td>\n",
       "      <td>0.237609</td>\n",
       "      <td>0.377436</td>\n",
       "      <td>-1.387024</td>\n",
       "      <td>...</td>\n",
       "      <td>-0.108300</td>\n",
       "      <td>0.005274</td>\n",
       "      <td>-0.190321</td>\n",
       "      <td>-1.175575</td>\n",
       "      <td>0.647376</td>\n",
       "      <td>-0.221929</td>\n",
       "      <td>0.062723</td>\n",
       "      <td>0.061458</td>\n",
       "      <td>123.50</td>\n",
       "      <td>0.0</td>\n",
       "    </tr>\n",
       "    <tr>\n",
       "      <th>4</th>\n",
       "      <td>2</td>\n",
       "      <td>-1.158233</td>\n",
       "      <td>0.877737</td>\n",
       "      <td>1.548718</td>\n",
       "      <td>0.403034</td>\n",
       "      <td>-0.407193</td>\n",
       "      <td>0.095921</td>\n",
       "      <td>0.592941</td>\n",
       "      <td>-0.270533</td>\n",
       "      <td>0.817739</td>\n",
       "      <td>...</td>\n",
       "      <td>-0.009431</td>\n",
       "      <td>0.798278</td>\n",
       "      <td>-0.137458</td>\n",
       "      <td>0.141267</td>\n",
       "      <td>-0.206010</td>\n",
       "      <td>0.502292</td>\n",
       "      <td>0.219422</td>\n",
       "      <td>0.215153</td>\n",
       "      <td>69.99</td>\n",
       "      <td>0.0</td>\n",
       "    </tr>\n",
       "  </tbody>\n",
       "</table>\n",
       "<p>5 rows × 31 columns</p>\n",
       "</div>"
      ],
      "text/plain": [
       "   Time        V1        V2        V3        V4        V5        V6        V7  \\\n",
       "0     0 -1.359807 -0.072781  2.536347  1.378155 -0.338321  0.462388  0.239599   \n",
       "1     0  1.191857  0.266151  0.166480  0.448154  0.060018 -0.082361 -0.078803   \n",
       "2     1 -1.358354 -1.340163  1.773209  0.379780 -0.503198  1.800499  0.791461   \n",
       "3     1 -0.966272 -0.185226  1.792993 -0.863291 -0.010309  1.247203  0.237609   \n",
       "4     2 -1.158233  0.877737  1.548718  0.403034 -0.407193  0.095921  0.592941   \n",
       "\n",
       "         V8        V9  ...       V21       V22       V23       V24       V25  \\\n",
       "0  0.098698  0.363787  ... -0.018307  0.277838 -0.110474  0.066928  0.128539   \n",
       "1  0.085102 -0.255425  ... -0.225775 -0.638672  0.101288 -0.339846  0.167170   \n",
       "2  0.247676 -1.514654  ...  0.247998  0.771679  0.909412 -0.689281 -0.327642   \n",
       "3  0.377436 -1.387024  ... -0.108300  0.005274 -0.190321 -1.175575  0.647376   \n",
       "4 -0.270533  0.817739  ... -0.009431  0.798278 -0.137458  0.141267 -0.206010   \n",
       "\n",
       "        V26       V27       V28  Amount  Class  \n",
       "0 -0.189115  0.133558 -0.021053  149.62    0.0  \n",
       "1  0.125895 -0.008983  0.014724    2.69    0.0  \n",
       "2 -0.139097 -0.055353 -0.059752  378.66    0.0  \n",
       "3 -0.221929  0.062723  0.061458  123.50    0.0  \n",
       "4  0.502292  0.219422  0.215153   69.99    0.0  \n",
       "\n",
       "[5 rows x 31 columns]"
      ]
     },
     "execution_count": 9,
     "metadata": {},
     "output_type": "execute_result"
    }
   ],
   "source": [
    "import pandas as pd\n",
    "from collections import Counter\n",
    "import itertools\n",
    "# Load the csv file\n",
    "dataframe = pd.read_csv(\"C:\\\\Users\\\\athir\\\\Downloads\\\\creditcard.csv.crdownload\")\n",
    "dataframe.head()"
   ]
  },
  {
   "cell_type": "code",
   "execution_count": 10,
   "id": "2fd91eb5",
   "metadata": {},
   "outputs": [
    {
     "data": {
      "text/plain": [
       "(11665, 31)"
      ]
     },
     "execution_count": 10,
     "metadata": {},
     "output_type": "execute_result"
    }
   ],
   "source": [
    "dataframe.shape"
   ]
  },
  {
   "cell_type": "code",
   "execution_count": 11,
   "id": "5d59d59d",
   "metadata": {},
   "outputs": [
    {
     "data": {
      "text/plain": [
       "Time      0\n",
       "V1        0\n",
       "V2        0\n",
       "V3        0\n",
       "V4        0\n",
       "V5        0\n",
       "V6        0\n",
       "V7        0\n",
       "V8        0\n",
       "V9        0\n",
       "V10       0\n",
       "V11       0\n",
       "V12       1\n",
       "V13       1\n",
       "V14       1\n",
       "V15       1\n",
       "V16       1\n",
       "V17       1\n",
       "V18       1\n",
       "V19       1\n",
       "V20       1\n",
       "V21       1\n",
       "V22       1\n",
       "V23       1\n",
       "V24       1\n",
       "V25       1\n",
       "V26       1\n",
       "V27       1\n",
       "V28       1\n",
       "Amount    1\n",
       "Class     1\n",
       "dtype: int64"
      ]
     },
     "execution_count": 11,
     "metadata": {},
     "output_type": "execute_result"
    }
   ],
   "source": [
    "dataframe.isnull().sum()"
   ]
  },
  {
   "cell_type": "code",
   "execution_count": 12,
   "id": "cb6053c9",
   "metadata": {},
   "outputs": [
    {
     "data": {
      "text/plain": [
       "True"
      ]
     },
     "execution_count": 12,
     "metadata": {},
     "output_type": "execute_result"
    }
   ],
   "source": [
    "dataframe.isnull().values.any()"
   ]
  },
  {
   "cell_type": "code",
   "execution_count": 6,
   "id": "4bb5a941",
   "metadata": {},
   "outputs": [
    {
     "name": "stdout",
     "output_type": "stream",
     "text": [
      "<class 'pandas.core.frame.DataFrame'>\n",
      "RangeIndex: 11665 entries, 0 to 11664\n",
      "Data columns (total 31 columns):\n",
      " #   Column  Non-Null Count  Dtype  \n",
      "---  ------  --------------  -----  \n",
      " 0   Time    11665 non-null  int64  \n",
      " 1   V1      11665 non-null  float64\n",
      " 2   V2      11665 non-null  float64\n",
      " 3   V3      11665 non-null  float64\n",
      " 4   V4      11665 non-null  float64\n",
      " 5   V5      11665 non-null  float64\n",
      " 6   V6      11665 non-null  float64\n",
      " 7   V7      11665 non-null  float64\n",
      " 8   V8      11665 non-null  float64\n",
      " 9   V9      11665 non-null  float64\n",
      " 10  V10     11665 non-null  float64\n",
      " 11  V11     11665 non-null  float64\n",
      " 12  V12     11664 non-null  float64\n",
      " 13  V13     11664 non-null  float64\n",
      " 14  V14     11664 non-null  float64\n",
      " 15  V15     11664 non-null  float64\n",
      " 16  V16     11664 non-null  float64\n",
      " 17  V17     11664 non-null  float64\n",
      " 18  V18     11664 non-null  float64\n",
      " 19  V19     11664 non-null  float64\n",
      " 20  V20     11664 non-null  float64\n",
      " 21  V21     11664 non-null  float64\n",
      " 22  V22     11664 non-null  float64\n",
      " 23  V23     11664 non-null  float64\n",
      " 24  V24     11664 non-null  float64\n",
      " 25  V25     11664 non-null  float64\n",
      " 26  V26     11664 non-null  float64\n",
      " 27  V27     11664 non-null  float64\n",
      " 28  V28     11664 non-null  float64\n",
      " 29  Amount  11664 non-null  float64\n",
      " 30  Class   11664 non-null  float64\n",
      "dtypes: float64(30), int64(1)\n",
      "memory usage: 2.8 MB\n"
     ]
    }
   ],
   "source": [
    "dataframe.info()"
   ]
  },
  {
   "cell_type": "code",
   "execution_count": 14,
   "id": "6f7ddcf3",
   "metadata": {},
   "outputs": [],
   "source": [
    "dataframe=dataframe.dropna()"
   ]
  },
  {
   "cell_type": "code",
   "execution_count": 7,
   "id": "ee98cfda",
   "metadata": {},
   "outputs": [],
   "source": [
    "dataframe['V12'].fillna('0', inplace=True)"
   ]
  },
  {
   "cell_type": "code",
   "execution_count": 105,
   "id": "1b5ae10f",
   "metadata": {},
   "outputs": [],
   "source": [
    "dataframe['V13'].fillna('0', inplace=True)\n",
    "dataframe['V14'].fillna('0', inplace=True)\n",
    "dataframe['V15'].fillna('0', inplace=True)\n",
    "dataframe['V16'].fillna('0', inplace=True)\n",
    "dataframe['V17'].fillna('0', inplace=True)\n",
    "dataframe['V18'].fillna('0', inplace=True)\n",
    "dataframe['V19'].fillna('0', inplace=True)\n",
    "dataframe['V20'].fillna('0', inplace=True)\n",
    "dataframe['V21'].fillna('0', inplace=True)\n",
    "dataframe['V22'].fillna('0', inplace=True)\n",
    "dataframe['V23'].fillna('0', inplace=True)\n",
    "dataframe['V24'].fillna('0', inplace=True)\n",
    "dataframe['V25'].fillna('0', inplace=True)\n",
    "dataframe['V26'].fillna('0', inplace=True)\n",
    "dataframe['V27'].fillna('0', inplace=True)\n",
    "dataframe['V28'].fillna('0', inplace=True)\n",
    "dataframe['Amount'].fillna('0', inplace=True)\n",
    "dataframe['Class'].fillna('0', inplace=True)"
   ]
  },
  {
   "cell_type": "code",
   "execution_count": 15,
   "id": "27607e28",
   "metadata": {},
   "outputs": [
    {
     "data": {
      "text/plain": [
       "Time      0\n",
       "V1        0\n",
       "V2        0\n",
       "V3        0\n",
       "V4        0\n",
       "V5        0\n",
       "V6        0\n",
       "V7        0\n",
       "V8        0\n",
       "V9        0\n",
       "V10       0\n",
       "V11       0\n",
       "V12       0\n",
       "V13       0\n",
       "V14       0\n",
       "V15       0\n",
       "V16       0\n",
       "V17       0\n",
       "V18       0\n",
       "V19       0\n",
       "V20       0\n",
       "V21       0\n",
       "V22       0\n",
       "V23       0\n",
       "V24       0\n",
       "V25       0\n",
       "V26       0\n",
       "V27       0\n",
       "V28       0\n",
       "Amount    0\n",
       "Class     0\n",
       "dtype: int64"
      ]
     },
     "execution_count": 15,
     "metadata": {},
     "output_type": "execute_result"
    }
   ],
   "source": [
    "dataframe.isnull().sum()"
   ]
  },
  {
   "cell_type": "code",
   "execution_count": 16,
   "id": "df6df25e",
   "metadata": {},
   "outputs": [
    {
     "data": {
      "text/plain": [
       "False"
      ]
     },
     "execution_count": 16,
     "metadata": {},
     "output_type": "execute_result"
    }
   ],
   "source": [
    "dataframe.isnull().values.any()"
   ]
  },
  {
   "cell_type": "code",
   "execution_count": 17,
   "id": "593d414d",
   "metadata": {},
   "outputs": [
    {
     "name": "stdout",
     "output_type": "stream",
     "text": [
      "<class 'pandas.core.frame.DataFrame'>\n",
      "Int64Index: 11664 entries, 0 to 11663\n",
      "Data columns (total 31 columns):\n",
      " #   Column  Non-Null Count  Dtype  \n",
      "---  ------  --------------  -----  \n",
      " 0   Time    11664 non-null  int64  \n",
      " 1   V1      11664 non-null  float64\n",
      " 2   V2      11664 non-null  float64\n",
      " 3   V3      11664 non-null  float64\n",
      " 4   V4      11664 non-null  float64\n",
      " 5   V5      11664 non-null  float64\n",
      " 6   V6      11664 non-null  float64\n",
      " 7   V7      11664 non-null  float64\n",
      " 8   V8      11664 non-null  float64\n",
      " 9   V9      11664 non-null  float64\n",
      " 10  V10     11664 non-null  float64\n",
      " 11  V11     11664 non-null  float64\n",
      " 12  V12     11664 non-null  float64\n",
      " 13  V13     11664 non-null  float64\n",
      " 14  V14     11664 non-null  float64\n",
      " 15  V15     11664 non-null  float64\n",
      " 16  V16     11664 non-null  float64\n",
      " 17  V17     11664 non-null  float64\n",
      " 18  V18     11664 non-null  float64\n",
      " 19  V19     11664 non-null  float64\n",
      " 20  V20     11664 non-null  float64\n",
      " 21  V21     11664 non-null  float64\n",
      " 22  V22     11664 non-null  float64\n",
      " 23  V23     11664 non-null  float64\n",
      " 24  V24     11664 non-null  float64\n",
      " 25  V25     11664 non-null  float64\n",
      " 26  V26     11664 non-null  float64\n",
      " 27  V27     11664 non-null  float64\n",
      " 28  V28     11664 non-null  float64\n",
      " 29  Amount  11664 non-null  float64\n",
      " 30  Class   11664 non-null  float64\n",
      "dtypes: float64(30), int64(1)\n",
      "memory usage: 2.8 MB\n"
     ]
    }
   ],
   "source": [
    "dataframe.info()"
   ]
  },
  {
   "cell_type": "code",
   "execution_count": 18,
   "id": "cc5e4d2e",
   "metadata": {},
   "outputs": [
    {
     "data": {
      "text/plain": [
       "(11664, 31)"
      ]
     },
     "execution_count": 18,
     "metadata": {},
     "output_type": "execute_result"
    }
   ],
   "source": [
    "dataframe.shape"
   ]
  },
  {
   "cell_type": "markdown",
   "id": "c3426521",
   "metadata": {},
   "source": [
    "3. From the dataset, calculate the number of genuine transactions, number of\n",
    " fraud transactions and the percentage of fraud transactions."
   ]
  },
  {
   "cell_type": "code",
   "execution_count": 19,
   "id": "3fdb727e",
   "metadata": {},
   "outputs": [
    {
     "name": "stdout",
     "output_type": "stream",
     "text": [
      "Number of Genuine transactions:  11615\n",
      "Number of Fraud transactions:  49\n",
      "Percentage of Fraud transactions: 0.4201\n"
     ]
    }
   ],
   "source": [
    "non_fraud = len(dataframe[dataframe.Class == 0])\n",
    "fraud = len(dataframe[dataframe.Class == 1])\n",
    "fraud_percent = (fraud / (fraud + non_fraud)) * 100\n",
    "print(\"Number of Genuine transactions: \", non_fraud)\n",
    "print(\"Number of Fraud transactions: \", fraud)\n",
    "print(\"Percentage of Fraud transactions: {:.4f}\".format(fraud_percent))"
   ]
  },
  {
   "cell_type": "markdown",
   "id": "6e38a82f",
   "metadata": {},
   "source": [
    "4.Using the visualization module, visualize the genuine and fraudulent\n",
    " transactions using a bar graph."
   ]
  },
  {
   "cell_type": "code",
   "execution_count": 20,
   "id": "85d2877b",
   "metadata": {},
   "outputs": [
    {
     "data": {
      "image/png": "[encoded data removed]",
      "text/plain": [
       "<Figure size 640x480 with 1 Axes>"
      ]
     },
     "metadata": {},
     "output_type": "display_data"
    }
   ],
   "source": [
    "import matplotlib.pyplot as plt\n",
    "labels = [\"Genuine\", \"Fraud\"]\n",
    "count_classes = dataframe.value_counts(dataframe['Class'], sort= True)\n",
    "count_classes.plot(kind = \"bar\", rot = 0)\n",
    "plt.title(\"Visualization of Labels\")\n",
    "plt.ylabel(\"Count\")\n",
    "plt.xticks(range(2), labels)\n",
    "plt.show()"
   ]
  },
  {
   "cell_type": "markdown",
   "id": "9fd8ce4d",
   "metadata": {},
   "source": [
    "5. Using the Standard Scaler module, normalize the amount column and\n",
    " store the new values in the NormalizedAmount column.\n",
    " 6. Split the dataset in train and test set and have a 70:30 split ratio for the\n",
    " model."
   ]
  },
  {
   "cell_type": "code",
   "execution_count": 21,
   "id": "4c7dcffa",
   "metadata": {},
   "outputs": [
    {
     "name": "stderr",
     "output_type": "stream",
     "text": [
      "C:\\Users\\athir\\AppData\\Local\\Temp\\ipykernel_47076\\3278984158.py:4: SettingWithCopyWarning: \n",
      "A value is trying to be set on a copy of a slice from a DataFrame.\n",
      "Try using .loc[row_indexer,col_indexer] = value instead\n",
      "\n",
      "See the caveats in the documentation: https://pandas.pydata.org/pandas-docs/stable/user_guide/indexing.html#returning-a-view-versus-a-copy\n",
      "  dataframe[\"NormalizedAmount\"] = scaler.fit_transform(dataframe[\"Amount\"].values.reshape(-1, 1))\n",
      "C:\\Users\\athir\\AppData\\Local\\Temp\\ipykernel_47076\\3278984158.py:5: SettingWithCopyWarning: \n",
      "A value is trying to be set on a copy of a slice from a DataFrame\n",
      "\n",
      "See the caveats in the documentation: https://pandas.pydata.org/pandas-docs/stable/user_guide/indexing.html#returning-a-view-versus-a-copy\n",
      "  dataframe.drop([\"Amount\", \"Time\"], inplace= True, axis= 1)\n"
     ]
    }
   ],
   "source": [
    "import numpy as np\n",
    "from sklearn.preprocessing import StandardScaler\n",
    "scaler = StandardScaler()\n",
    "dataframe[\"NormalizedAmount\"] = scaler.fit_transform(dataframe[\"Amount\"].values.reshape(-1, 1))\n",
    "dataframe.drop([\"Amount\", \"Time\"], inplace= True, axis= 1)\n",
    "Y = dataframe[\"Class\"]\n",
    "X = dataframe.drop([\"Class\"], axis= 1)"
   ]
  },
  {
   "cell_type": "code",
   "execution_count": 22,
   "id": "5eeac5df",
   "metadata": {},
   "outputs": [
    {
     "name": "stdout",
     "output_type": "stream",
     "text": [
      "Shape of train_X:  (8164, 29)\n",
      "Shape of test_X:  (3500, 29)\n"
     ]
    }
   ],
   "source": [
    "from sklearn.model_selection import train_test_split\n",
    "(train_X, test_X, train_Y, test_Y) = train_test_split(X, Y, test_size= 0.3, random_state= 42)\n",
    "print(\"Shape of train_X: \", train_X.shape)\n",
    "print(\"Shape of test_X: \", test_X.shape)"
   ]
  },
  {
   "cell_type": "code",
   "execution_count": 23,
   "id": "6134860c",
   "metadata": {},
   "outputs": [
    {
     "data": {
      "text/html": [
       "<div>\n",
       "<style scoped>\n",
       "    .dataframe tbody tr th:only-of-type {\n",
       "        vertical-align: middle;\n",
       "    }\n",
       "\n",
       "    .dataframe tbody tr th {\n",
       "        vertical-align: top;\n",
       "    }\n",
       "\n",
       "    .dataframe thead th {\n",
       "        text-align: right;\n",
       "    }\n",
       "</style>\n",
       "<table border=\"1\" class=\"dataframe\">\n",
       "  <thead>\n",
       "    <tr style=\"text-align: right;\">\n",
       "      <th></th>\n",
       "      <th>V1</th>\n",
       "      <th>V2</th>\n",
       "      <th>V3</th>\n",
       "      <th>V4</th>\n",
       "      <th>V5</th>\n",
       "      <th>V6</th>\n",
       "      <th>V7</th>\n",
       "      <th>V8</th>\n",
       "      <th>V9</th>\n",
       "      <th>V10</th>\n",
       "      <th>...</th>\n",
       "      <th>V20</th>\n",
       "      <th>V21</th>\n",
       "      <th>V22</th>\n",
       "      <th>V23</th>\n",
       "      <th>V24</th>\n",
       "      <th>V25</th>\n",
       "      <th>V26</th>\n",
       "      <th>V27</th>\n",
       "      <th>V28</th>\n",
       "      <th>NormalizedAmount</th>\n",
       "    </tr>\n",
       "  </thead>\n",
       "  <tbody>\n",
       "    <tr>\n",
       "      <th>7797</th>\n",
       "      <td>1.186018</td>\n",
       "      <td>0.289282</td>\n",
       "      <td>0.379856</td>\n",
       "      <td>0.870344</td>\n",
       "      <td>-0.224921</td>\n",
       "      <td>-0.577002</td>\n",
       "      <td>-0.139303</td>\n",
       "      <td>-0.086336</td>\n",
       "      <td>1.480846</td>\n",
       "      <td>-0.671684</td>\n",
       "      <td>...</td>\n",
       "      <td>-0.196281</td>\n",
       "      <td>-0.414103</td>\n",
       "      <td>-1.001164</td>\n",
       "      <td>0.170614</td>\n",
       "      <td>-0.056866</td>\n",
       "      <td>0.076840</td>\n",
       "      <td>0.087637</td>\n",
       "      <td>-0.043487</td>\n",
       "      <td>0.021249</td>\n",
       "      <td>-0.254743</td>\n",
       "    </tr>\n",
       "    <tr>\n",
       "      <th>3668</th>\n",
       "      <td>-1.179626</td>\n",
       "      <td>0.007086</td>\n",
       "      <td>1.480764</td>\n",
       "      <td>-2.010503</td>\n",
       "      <td>0.850994</td>\n",
       "      <td>-1.026712</td>\n",
       "      <td>0.385663</td>\n",
       "      <td>0.124876</td>\n",
       "      <td>0.220939</td>\n",
       "      <td>-1.513583</td>\n",
       "      <td>...</td>\n",
       "      <td>-0.006095</td>\n",
       "      <td>0.216542</td>\n",
       "      <td>0.458929</td>\n",
       "      <td>-0.330734</td>\n",
       "      <td>0.014742</td>\n",
       "      <td>0.716113</td>\n",
       "      <td>-0.671609</td>\n",
       "      <td>0.044316</td>\n",
       "      <td>0.056926</td>\n",
       "      <td>-0.343671</td>\n",
       "    </tr>\n",
       "    <tr>\n",
       "      <th>4365</th>\n",
       "      <td>1.348190</td>\n",
       "      <td>-0.472714</td>\n",
       "      <td>0.654790</td>\n",
       "      <td>-0.496058</td>\n",
       "      <td>-0.960414</td>\n",
       "      <td>-0.549795</td>\n",
       "      <td>-0.777616</td>\n",
       "      <td>-0.078439</td>\n",
       "      <td>0.665953</td>\n",
       "      <td>0.222554</td>\n",
       "      <td>...</td>\n",
       "      <td>-0.056300</td>\n",
       "      <td>-0.225025</td>\n",
       "      <td>-0.561039</td>\n",
       "      <td>0.181641</td>\n",
       "      <td>-0.029598</td>\n",
       "      <td>0.094593</td>\n",
       "      <td>-0.487922</td>\n",
       "      <td>-0.008835</td>\n",
       "      <td>0.012234</td>\n",
       "      <td>-0.249126</td>\n",
       "    </tr>\n",
       "    <tr>\n",
       "      <th>1023</th>\n",
       "      <td>-0.353543</td>\n",
       "      <td>1.140729</td>\n",
       "      <td>1.194118</td>\n",
       "      <td>-0.142210</td>\n",
       "      <td>0.319211</td>\n",
       "      <td>-0.447582</td>\n",
       "      <td>0.655978</td>\n",
       "      <td>0.049249</td>\n",
       "      <td>-0.754069</td>\n",
       "      <td>-0.365179</td>\n",
       "      <td>...</td>\n",
       "      <td>0.182666</td>\n",
       "      <td>-0.226047</td>\n",
       "      <td>-0.571581</td>\n",
       "      <td>-0.082745</td>\n",
       "      <td>-0.031297</td>\n",
       "      <td>-0.119750</td>\n",
       "      <td>0.072445</td>\n",
       "      <td>0.247384</td>\n",
       "      <td>0.086242</td>\n",
       "      <td>-0.339333</td>\n",
       "    </tr>\n",
       "    <tr>\n",
       "      <th>3298</th>\n",
       "      <td>-1.479452</td>\n",
       "      <td>1.542874</td>\n",
       "      <td>0.290895</td>\n",
       "      <td>0.838142</td>\n",
       "      <td>-0.529290</td>\n",
       "      <td>-0.717661</td>\n",
       "      <td>0.484516</td>\n",
       "      <td>0.545092</td>\n",
       "      <td>-0.780767</td>\n",
       "      <td>0.324804</td>\n",
       "      <td>...</td>\n",
       "      <td>0.038397</td>\n",
       "      <td>0.116771</td>\n",
       "      <td>0.405560</td>\n",
       "      <td>-0.116453</td>\n",
       "      <td>0.541275</td>\n",
       "      <td>-0.216665</td>\n",
       "      <td>-0.415578</td>\n",
       "      <td>0.027126</td>\n",
       "      <td>-0.150347</td>\n",
       "      <td>-0.021941</td>\n",
       "    </tr>\n",
       "    <tr>\n",
       "      <th>...</th>\n",
       "      <td>...</td>\n",
       "      <td>...</td>\n",
       "      <td>...</td>\n",
       "      <td>...</td>\n",
       "      <td>...</td>\n",
       "      <td>...</td>\n",
       "      <td>...</td>\n",
       "      <td>...</td>\n",
       "      <td>...</td>\n",
       "      <td>...</td>\n",
       "      <td>...</td>\n",
       "      <td>...</td>\n",
       "      <td>...</td>\n",
       "      <td>...</td>\n",
       "      <td>...</td>\n",
       "      <td>...</td>\n",
       "      <td>...</td>\n",
       "      <td>...</td>\n",
       "      <td>...</td>\n",
       "      <td>...</td>\n",
       "      <td>...</td>\n",
       "    </tr>\n",
       "    <tr>\n",
       "      <th>11284</th>\n",
       "      <td>-0.247756</td>\n",
       "      <td>1.254309</td>\n",
       "      <td>1.178603</td>\n",
       "      <td>1.290727</td>\n",
       "      <td>0.496781</td>\n",
       "      <td>-0.605885</td>\n",
       "      <td>0.957472</td>\n",
       "      <td>-0.253849</td>\n",
       "      <td>0.280065</td>\n",
       "      <td>-0.538691</td>\n",
       "      <td>...</td>\n",
       "      <td>-0.029724</td>\n",
       "      <td>0.034756</td>\n",
       "      <td>0.432613</td>\n",
       "      <td>-0.127321</td>\n",
       "      <td>0.368686</td>\n",
       "      <td>-0.192946</td>\n",
       "      <td>-0.271823</td>\n",
       "      <td>0.137655</td>\n",
       "      <td>0.143735</td>\n",
       "      <td>-0.268647</td>\n",
       "    </tr>\n",
       "    <tr>\n",
       "      <th>5191</th>\n",
       "      <td>1.031677</td>\n",
       "      <td>-0.006787</td>\n",
       "      <td>0.568099</td>\n",
       "      <td>1.583664</td>\n",
       "      <td>-0.348881</td>\n",
       "      <td>0.030754</td>\n",
       "      <td>-0.214084</td>\n",
       "      <td>0.147572</td>\n",
       "      <td>1.621096</td>\n",
       "      <td>-0.282434</td>\n",
       "      <td>...</td>\n",
       "      <td>-0.285166</td>\n",
       "      <td>-0.187458</td>\n",
       "      <td>-0.287500</td>\n",
       "      <td>-0.047609</td>\n",
       "      <td>0.114755</td>\n",
       "      <td>0.495479</td>\n",
       "      <td>-0.377993</td>\n",
       "      <td>-0.011818</td>\n",
       "      <td>0.003753</td>\n",
       "      <td>-0.080558</td>\n",
       "    </tr>\n",
       "    <tr>\n",
       "      <th>5390</th>\n",
       "      <td>-0.914827</td>\n",
       "      <td>0.834317</td>\n",
       "      <td>2.130190</td>\n",
       "      <td>0.935591</td>\n",
       "      <td>-0.460889</td>\n",
       "      <td>0.029705</td>\n",
       "      <td>0.331374</td>\n",
       "      <td>-0.503894</td>\n",
       "      <td>1.797079</td>\n",
       "      <td>-0.014454</td>\n",
       "      <td>...</td>\n",
       "      <td>-0.083733</td>\n",
       "      <td>0.010262</td>\n",
       "      <td>0.640675</td>\n",
       "      <td>-0.307134</td>\n",
       "      <td>0.445520</td>\n",
       "      <td>-0.420362</td>\n",
       "      <td>0.451446</td>\n",
       "      <td>-0.660535</td>\n",
       "      <td>-0.044895</td>\n",
       "      <td>-0.016101</td>\n",
       "    </tr>\n",
       "    <tr>\n",
       "      <th>860</th>\n",
       "      <td>-0.833568</td>\n",
       "      <td>0.606174</td>\n",
       "      <td>-0.051329</td>\n",
       "      <td>-2.091447</td>\n",
       "      <td>0.968764</td>\n",
       "      <td>-0.030220</td>\n",
       "      <td>0.887288</td>\n",
       "      <td>0.099009</td>\n",
       "      <td>0.834622</td>\n",
       "      <td>-1.031219</td>\n",
       "      <td>...</td>\n",
       "      <td>-0.375235</td>\n",
       "      <td>0.320782</td>\n",
       "      <td>1.239559</td>\n",
       "      <td>0.192074</td>\n",
       "      <td>-0.621025</td>\n",
       "      <td>-0.843584</td>\n",
       "      <td>-0.835690</td>\n",
       "      <td>0.164384</td>\n",
       "      <td>0.274361</td>\n",
       "      <td>-0.294174</td>\n",
       "    </tr>\n",
       "    <tr>\n",
       "      <th>7270</th>\n",
       "      <td>-1.615473</td>\n",
       "      <td>1.503259</td>\n",
       "      <td>1.551715</td>\n",
       "      <td>0.725170</td>\n",
       "      <td>-0.980576</td>\n",
       "      <td>-0.072229</td>\n",
       "      <td>-0.233344</td>\n",
       "      <td>0.086480</td>\n",
       "      <td>1.752388</td>\n",
       "      <td>-0.214053</td>\n",
       "      <td>...</td>\n",
       "      <td>-0.266006</td>\n",
       "      <td>0.188254</td>\n",
       "      <td>0.546204</td>\n",
       "      <td>-0.117072</td>\n",
       "      <td>0.414144</td>\n",
       "      <td>-0.343644</td>\n",
       "      <td>0.397611</td>\n",
       "      <td>-1.110604</td>\n",
       "      <td>0.115793</td>\n",
       "      <td>-0.182444</td>\n",
       "    </tr>\n",
       "  </tbody>\n",
       "</table>\n",
       "<p>8164 rows × 29 columns</p>\n",
       "</div>"
      ],
      "text/plain": [
       "             V1        V2        V3        V4        V5        V6        V7  \\\n",
       "7797   1.186018  0.289282  0.379856  0.870344 -0.224921 -0.577002 -0.139303   \n",
       "3668  -1.179626  0.007086  1.480764 -2.010503  0.850994 -1.026712  0.385663   \n",
       "4365   1.348190 -0.472714  0.654790 -0.496058 -0.960414 -0.549795 -0.777616   \n",
       "1023  -0.353543  1.140729  1.194118 -0.142210  0.319211 -0.447582  0.655978   \n",
       "3298  -1.479452  1.542874  0.290895  0.838142 -0.529290 -0.717661  0.484516   \n",
       "...         ...       ...       ...       ...       ...       ...       ...   \n",
       "11284 -0.247756  1.254309  1.178603  1.290727  0.496781 -0.605885  0.957472   \n",
       "5191   1.031677 -0.006787  0.568099  1.583664 -0.348881  0.030754 -0.214084   \n",
       "5390  -0.914827  0.834317  2.130190  0.935591 -0.460889  0.029705  0.331374   \n",
       "860   -0.833568  0.606174 -0.051329 -2.091447  0.968764 -0.030220  0.887288   \n",
       "7270  -1.615473  1.503259  1.551715  0.725170 -0.980576 -0.072229 -0.233344   \n",
       "\n",
       "             V8        V9       V10  ...       V20       V21       V22  \\\n",
       "7797  -0.086336  1.480846 -0.671684  ... -0.196281 -0.414103 -1.001164   \n",
       "3668   0.124876  0.220939 -1.513583  ... -0.006095  0.216542  0.458929   \n",
       "4365  -0.078439  0.665953  0.222554  ... -0.056300 -0.225025 -0.561039   \n",
       "1023   0.049249 -0.754069 -0.365179  ...  0.182666 -0.226047 -0.571581   \n",
       "3298   0.545092 -0.780767  0.324804  ...  0.038397  0.116771  0.405560   \n",
       "...         ...       ...       ...  ...       ...       ...       ...   \n",
       "11284 -0.253849  0.280065 -0.538691  ... -0.029724  0.034756  0.432613   \n",
       "5191   0.147572  1.621096 -0.282434  ... -0.285166 -0.187458 -0.287500   \n",
       "5390  -0.503894  1.797079 -0.014454  ... -0.083733  0.010262  0.640675   \n",
       "860    0.099009  0.834622 -1.031219  ... -0.375235  0.320782  1.239559   \n",
       "7270   0.086480  1.752388 -0.214053  ... -0.266006  0.188254  0.546204   \n",
       "\n",
       "            V23       V24       V25       V26       V27       V28  \\\n",
       "7797   0.170614 -0.056866  0.076840  0.087637 -0.043487  0.021249   \n",
       "3668  -0.330734  0.014742  0.716113 -0.671609  0.044316  0.056926   \n",
       "4365   0.181641 -0.029598  0.094593 -0.487922 -0.008835  0.012234   \n",
       "1023  -0.082745 -0.031297 -0.119750  0.072445  0.247384  0.086242   \n",
       "3298  -0.116453  0.541275 -0.216665 -0.415578  0.027126 -0.150347   \n",
       "...         ...       ...       ...       ...       ...       ...   \n",
       "11284 -0.127321  0.368686 -0.192946 -0.271823  0.137655  0.143735   \n",
       "5191  -0.047609  0.114755  0.495479 -0.377993 -0.011818  0.003753   \n",
       "5390  -0.307134  0.445520 -0.420362  0.451446 -0.660535 -0.044895   \n",
       "860    0.192074 -0.621025 -0.843584 -0.835690  0.164384  0.274361   \n",
       "7270  -0.117072  0.414144 -0.343644  0.397611 -1.110604  0.115793   \n",
       "\n",
       "       NormalizedAmount  \n",
       "7797          -0.254743  \n",
       "3668          -0.343671  \n",
       "4365          -0.249126  \n",
       "1023          -0.339333  \n",
       "3298          -0.021941  \n",
       "...                 ...  \n",
       "11284         -0.268647  \n",
       "5191          -0.080558  \n",
       "5390          -0.016101  \n",
       "860           -0.294174  \n",
       "7270          -0.182444  \n",
       "\n",
       "[8164 rows x 29 columns]"
      ]
     },
     "execution_count": 23,
     "metadata": {},
     "output_type": "execute_result"
    }
   ],
   "source": [
    "train_X"
   ]
  },
  {
   "cell_type": "markdown",
   "id": "7b8967a2",
   "metadata": {},
   "source": [
    "7. Now use a decision tree and random forest model for training on top of the\n",
    " train set."
   ]
  },
  {
   "cell_type": "code",
   "execution_count": 24,
   "id": "4571ce6a",
   "metadata": {},
   "outputs": [],
   "source": [
    "from sklearn.ensemble import RandomForestClassifier\n",
    "from sklearn.tree import DecisionTreeClassifier\n",
    "#Decision Tree\n",
    "decision_tree = DecisionTreeClassifier()\n",
    "# Random Forest\n",
    "random_forest = RandomForestClassifier(n_estimators= 100)\n"
   ]
  },
  {
   "cell_type": "code",
   "execution_count": 26,
   "id": "6e94dec7",
   "metadata": {
    "scrolled": true
   },
   "outputs": [
    {
     "name": "stdout",
     "output_type": "stream",
     "text": [
      "Random Forest Score:  99.91428571428571\n",
      "Decision Tree Score:  99.88571428571429\n"
     ]
    }
   ],
   "source": [
    "decision_tree.fit(train_X, train_Y)\n",
    "predictions_dt = decision_tree.predict(test_X)\n",
    "decision_tree_score = decision_tree.score(test_X, test_Y) * 100\n",
    "random_forest.fit(train_X, train_Y)  \n",
    "predictions_rf = random_forest.predict(test_X)\n",
    "random_forest_score = random_forest.score(test_X, test_Y) * 100\n",
    "print(\"Random Forest Score: \", random_forest_score)\n",
    "print(\"Decision Tree Score: \", decision_tree_score)"
   ]
  },
  {
   "cell_type": "code",
   "execution_count": 27,
   "id": "c07ef147",
   "metadata": {},
   "outputs": [
    {
     "data": {
      "text/plain": [
       "array([0., 0., 0., 0., 0., 0., 0., 0., 0., 0., 0., 0., 0., 0., 0., 0., 0.,\n",
       "       0., 0., 0.])"
      ]
     },
     "execution_count": 27,
     "metadata": {},
     "output_type": "execute_result"
    }
   ],
   "source": [
    "predictions_dt[:20]"
   ]
  },
  {
   "cell_type": "code",
   "execution_count": 28,
   "id": "4e2078f4",
   "metadata": {},
   "outputs": [
    {
     "data": {
      "text/plain": [
       "array([0., 0., 0., 0., 0., 0., 0., 0., 0., 0., 0., 0., 0., 0., 0., 0., 0.,\n",
       "       0., 0., 0.])"
      ]
     },
     "execution_count": 28,
     "metadata": {},
     "output_type": "execute_result"
    }
   ],
   "source": [
    "predictions_rf[:20]"
   ]
  },
  {
   "cell_type": "code",
   "execution_count": 29,
   "id": "3baebc72",
   "metadata": {},
   "outputs": [],
   "source": [
    "from sklearn.metrics import accuracy_score, precision_score, confusion_matrix, recall_score, f1_score\n",
    "def metrics(actuals, predictions):\n",
    "    print(\"Accuracy: {:.5f}\".format(accuracy_score(actuals, predictions)))\n",
    "    print(\"Precision: {:.5f}\".format(precision_score(actuals, predictions)))\n",
    "    print(\"Recall: {:.5f}\".format(recall_score(actuals, predictions)))\n",
    "    print(\"F1-score: {:.5f}\".format(f1_score(actuals, predictions)))"
   ]
  },
  {
   "cell_type": "code",
   "execution_count": 30,
   "id": "970f98cd",
   "metadata": {},
   "outputs": [
    {
     "name": "stdout",
     "output_type": "stream",
     "text": [
      "Confusion Matrix - Decision Tree\n",
      "[[3482    2]\n",
      " [   2   14]]\n"
     ]
    }
   ],
   "source": [
    "confusion_matrix_dt = confusion_matrix(test_Y, predictions_dt.round())\n",
    "print(\"Confusion Matrix - Decision Tree\")\n",
    "print(confusion_matrix_dt)\n"
   ]
  },
  {
   "cell_type": "code",
   "execution_count": 31,
   "id": "ec07efa4",
   "metadata": {},
   "outputs": [
    {
     "name": "stdout",
     "output_type": "stream",
     "text": [
      "Confusion Matrix - Decision Tree\n",
      "[[3482    2]\n",
      " [   2   14]]\n"
     ]
    }
   ],
   "source": [
    "confusion_matrix_dt = confusion_matrix(test_Y, predictions_dt.round())\n",
    "print(\"Confusion Matrix - Decision Tree\")\n",
    "print(confusion_matrix_dt)\n"
   ]
  },
  {
   "cell_type": "code",
   "execution_count": 32,
   "id": "9122c792",
   "metadata": {},
   "outputs": [
    {
     "name": "stdout",
     "output_type": "stream",
     "text": [
      "Accuracy: 0.99886\n",
      "Precision: 0.87500\n",
      "Recall: 0.87500\n",
      "F1-score: 0.87500\n"
     ]
    }
   ],
   "source": [
    "metrics(test_Y, predictions_dt)"
   ]
  },
  {
   "cell_type": "code",
   "execution_count": null,
   "id": "4f7fe573",
   "metadata": {},
   "outputs": [],
   "source": []
  }
 ],
 "metadata": {
  "kernelspec": {
   "display_name": "Python 3 (ipykernel)",
   "language": "python",
   "name": "python3"
  },
  "language_info": {
   "codemirror_mode": {
    "name": "ipython",
    "version": 3
   },
   "file_extension": ".py",
   "mimetype": "text/x-python",
   "name": "python",
   "nbconvert_exporter": "python",
   "pygments_lexer": "ipython3",
   "version": "3.11.3"
  }
 },
 "nbformat": 4,
 "nbformat_minor": 5
}
